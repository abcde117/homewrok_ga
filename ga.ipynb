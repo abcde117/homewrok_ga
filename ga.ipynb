{
  "nbformat": 4,
  "nbformat_minor": 0,
  "metadata": {
    "colab": {
      "provenance": [],
      "collapsed_sections": [
        "_hxkGsb3vO2_"
      ]
    },
    "kernelspec": {
      "name": "python3",
      "display_name": "Python 3"
    },
    "language_info": {
      "name": "python"
    }
  },
  "cells": [
    {
      "cell_type": "markdown",
      "source": [
        "#1"
      ],
      "metadata": {
        "id": "_hxkGsb3vO2_"
      }
    },
    {
      "cell_type": "code",
      "source": [
        "import copy\n",
        "import numpy as np\n",
        "import random\n"
      ],
      "metadata": {
        "id": "F8RaUCo9xG8E"
      },
      "execution_count": null,
      "outputs": []
    },
    {
      "cell_type": "code",
      "source": [
        "def understanding(p_size):\n",
        "   return np.random.choice([0, 1], size=p_size)\n"
      ],
      "metadata": {
        "id": "rcSIE0qsxKQV"
      },
      "execution_count": null,
      "outputs": []
    },
    {
      "cell_type": "code",
      "source": [
        "def question (p_size,q_size) :\n",
        "    return np.random.choice([0, 1], size=(p_size,q_size))\n"
      ],
      "metadata": {
        "id": "-NQaWl9UyDon"
      },
      "execution_count": null,
      "outputs": []
    },
    {
      "cell_type": "code",
      "source": [
        "def importance(q_size):\n",
        "   importance = np.random.uniform(0, 1, q_size)\n",
        "   importance /= importance.sum()\n",
        "   return importance"
      ],
      "metadata": {
        "id": "Ka4aoP9f9YxV"
      },
      "execution_count": null,
      "outputs": []
    },
    {
      "cell_type": "code",
      "source": [
        "weight =importance(10)"
      ],
      "metadata": {
        "id": "N1YbHVbX_kQ5"
      },
      "execution_count": null,
      "outputs": []
    },
    {
      "cell_type": "code",
      "source": [
        "stuednets=np.random.uniform(0, 10, (9,4))"
      ],
      "metadata": {
        "id": "U7tDOCFSBZ-m"
      },
      "execution_count": null,
      "outputs": []
    },
    {
      "cell_type": "code",
      "source": [
        "textbook=np.random.uniform(0, 10, 4)"
      ],
      "metadata": {
        "id": "D1FfK_58HE7D"
      },
      "execution_count": null,
      "outputs": []
    },
    {
      "cell_type": "code",
      "source": [
        "mean_ablity=np.mean(stuednets,axis=1)"
      ],
      "metadata": {
        "id": "1jGKAby1OZWt"
      },
      "execution_count": null,
      "outputs": []
    },
    {
      "cell_type": "code",
      "source": [
        "diff=(mean_ablity[0]-textbook)/10"
      ],
      "metadata": {
        "id": "Yg7Lqh0AQT26"
      },
      "execution_count": null,
      "outputs": []
    },
    {
      "cell_type": "code",
      "source": [
        "def self_check_indival(diff):\n",
        "   l=[]\n",
        "   for i in diff:\n",
        "     if(i<=0):\n",
        "        l.append(0)\n",
        "     else:\n",
        "        l.append(np.random.choice([0, 1]))\n",
        "   return  np.array(l)"
      ],
      "metadata": {
        "id": "kiW4Dp-ZQLWl"
      },
      "execution_count": null,
      "outputs": []
    },
    {
      "cell_type": "code",
      "source": [
        "def self_check_total(students):\n",
        "   l=[]\n",
        "   mean_ablity=np.mean(students,axis=1)\n",
        "   for i in mean_ablity:\n",
        "     diff=(i-textbook)/10\n",
        "     ll=self_check_indival(diff)\n",
        "     l.append(ll)\n",
        "   return np.array(l)\n"
      ],
      "metadata": {
        "id": "ouAyi8--Tod-"
      },
      "execution_count": null,
      "outputs": []
    },
    {
      "cell_type": "code",
      "source": [
        "sel_c=self_check_total(stuednets)"
      ],
      "metadata": {
        "id": "cHZNit-5Um0J"
      },
      "execution_count": null,
      "outputs": []
    },
    {
      "cell_type": "code",
      "source": [
        "sel_c"
      ],
      "metadata": {
        "colab": {
          "base_uri": "https://localhost:8080/"
        },
        "id": "g-e3oa9DedQv",
        "outputId": "678b386c-1392-4157-eda4-7ff8cfeda1ba"
      },
      "execution_count": null,
      "outputs": [
        {
          "output_type": "execute_result",
          "data": {
            "text/plain": [
              "array([[0, 1, 0, 0],\n",
              "       [0, 1, 0, 1],\n",
              "       [0, 1, 1, 0],\n",
              "       [1, 1, 0, 0],\n",
              "       [0, 0, 1, 1],\n",
              "       [1, 1, 0, 0],\n",
              "       [1, 0, 0, 0],\n",
              "       [0, 1, 0, 0],\n",
              "       [0, 0, 0, 0]])"
            ]
          },
          "metadata": {},
          "execution_count": 10
        }
      ]
    },
    {
      "cell_type": "code",
      "source": [
        "def question_anser_indival(diff,q_size):\n",
        "  if(diff<=0):\n",
        "     p=max(0,0.5+diff)\n",
        "     return np.random.choice([0,1],q_size,p=[1-p,p])\n",
        "  p=min(1,0.5+diff)\n",
        "  return  np.random.choice([0,1],q_size,p=[1-p,p])"
      ],
      "metadata": {
        "id": "h6SNxTSOUtmF"
      },
      "execution_count": null,
      "outputs": []
    },
    {
      "cell_type": "code",
      "source": [
        "def question_anser_total(mean_ablity, q_size):\n",
        "    l = []\n",
        "    for i in range(len(mean_ablity)):  # Iterate using index\n",
        "        diff = (mean_ablity[i] - textbook) / 10  # Calculate diff for each student\n",
        "        ll = []\n",
        "        for j in range(len(diff)):  # Iterate through each subject\n",
        "            ll.append(question_anser_indival(diff[j], q_size))  # Pass single diff value\n",
        "        l.append(np.array(ll))\n",
        "    return np.array(l)\n"
      ],
      "metadata": {
        "id": "7UkngWdFXKF8"
      },
      "execution_count": null,
      "outputs": []
    },
    {
      "cell_type": "code",
      "source": [
        "mean_ablity"
      ],
      "metadata": {
        "colab": {
          "base_uri": "https://localhost:8080/"
        },
        "id": "-XRF73KXxbnO",
        "outputId": "64c715ee-0e6c-441c-d1b1-0ba293de64a2"
      },
      "execution_count": null,
      "outputs": [
        {
          "output_type": "execute_result",
          "data": {
            "text/plain": [
              "array([4.777561  , 5.72139814, 4.18744747, 4.98770747])"
            ]
          },
          "metadata": {},
          "execution_count": 25
        }
      ]
    },
    {
      "cell_type": "code",
      "source": [
        "ll=question_anser_total(mean_ablity,10)"
      ],
      "metadata": {
        "id": "xuWjkNKXYHA5"
      },
      "execution_count": null,
      "outputs": []
    },
    {
      "cell_type": "code",
      "source": [
        "weight =importance(10)"
      ],
      "metadata": {
        "id": "z7iUk58QwW8c"
      },
      "execution_count": null,
      "outputs": []
    },
    {
      "cell_type": "code",
      "source": [
        "def fittness_func(prior,question_anser,question_importance,students):\n",
        "     return prior*0.1+0.45*(question_anser@question_importance)+0.45*(stuednets/10)"
      ],
      "metadata": {
        "id": "l7QB39YTufsI"
      },
      "execution_count": null,
      "outputs": []
    },
    {
      "cell_type": "code",
      "source": [
        "def fittness_func(prior,question_anser,question_importance,students):\n",
        "     fittness=prior*0.35+0.5*(question_anser@question_importance)+0.15*(stuednets/10)\n",
        "     k=np.exp(-np.abs(sel_c-np.sum(ll,axis=2)/10)*stuednets)\n",
        "     fitness=fittness*k\n",
        "     return fittness\n"
      ],
      "metadata": {
        "id": "OhpSWuR01gCR"
      },
      "execution_count": null,
      "outputs": []
    },
    {
      "cell_type": "code",
      "source": [
        "fittness=fittness_func(sel_c,ll,weight,stuednets)"
      ],
      "metadata": {
        "id": "1bhHo4w0vkK1"
      },
      "execution_count": null,
      "outputs": []
    },
    {
      "cell_type": "code",
      "source": [
        "posterior = prior*likelihoods"
      ],
      "metadata": {
        "id": "8LqW7qT3_nX1"
      },
      "execution_count": null,
      "outputs": []
    },
    {
      "cell_type": "code",
      "source": [
        "def selection(students,textbbok,fitness):\n",
        "  diff=stuednets-textbook.reshape(1,-1)\n",
        "  prior=np.exp(-0.5*(diff/np.std(diff))**2)\n",
        "  likelihoods=np.exp(-0.1*fitness)\n",
        "  posterior = prior*likelihoods\n",
        "  posterior=(posterior)/np.sum(posterior,axis=1).reshape(-1,1)\n",
        "\n",
        "  return np.argmax(posterior,axis=1)"
      ],
      "metadata": {
        "id": "sS4YRa3i9I3b"
      },
      "execution_count": null,
      "outputs": []
    },
    {
      "cell_type": "code",
      "source": [
        "sele=selection(stuednets,textbook,fittness)"
      ],
      "metadata": {
        "id": "UGOkSDNl_P6W"
      },
      "execution_count": null,
      "outputs": []
    },
    {
      "cell_type": "code",
      "source": [
        "sele"
      ],
      "metadata": {
        "colab": {
          "base_uri": "https://localhost:8080/"
        },
        "id": "TzFOsCps_rh0",
        "outputId": "d4dc6d0d-46d1-448a-8fa4-6d9325e25d22"
      },
      "execution_count": null,
      "outputs": [
        {
          "output_type": "execute_result",
          "data": {
            "text/plain": [
              "array([2, 2, 1, 0, 3, 2, 2, 0, 3])"
            ]
          },
          "metadata": {},
          "execution_count": 115
        }
      ]
    },
    {
      "cell_type": "code",
      "source": [
        "study_gain=ll[np.arange(len(stuednets)),sele,]"
      ],
      "metadata": {
        "colab": {
          "base_uri": "https://localhost:8080/"
        },
        "id": "xEQ6E_kw_s94",
        "outputId": "c47a5b6b-4b15-4a0b-9930-12c4a740af2a"
      },
      "execution_count": null,
      "outputs": [
        {
          "output_type": "execute_result",
          "data": {
            "text/plain": [
              "array([[1, 0, 0, 1, 0, 0, 0, 0, 0, 0],\n",
              "       [1, 1, 1, 1, 0, 1, 0, 1, 1, 1],\n",
              "       [0, 1, 1, 1, 1, 1, 1, 0, 1, 1],\n",
              "       [0, 0, 0, 1, 0, 0, 0, 1, 1, 0],\n",
              "       [1, 1, 1, 1, 1, 1, 1, 1, 1, 1],\n",
              "       [0, 1, 0, 1, 1, 0, 0, 1, 1, 1],\n",
              "       [1, 0, 1, 1, 1, 1, 0, 0, 1, 1],\n",
              "       [1, 1, 0, 1, 0, 0, 0, 0, 0, 0],\n",
              "       [0, 1, 1, 0, 1, 1, 0, 0, 1, 1]])"
            ]
          },
          "metadata": {},
          "execution_count": 116
        }
      ]
    },
    {
      "cell_type": "code",
      "source": [
        "study_gain=ll[np.arange(9),np.argmax(fittness,axis=1) ,]"
      ],
      "metadata": {
        "id": "oaUH_Ggy-hcl"
      },
      "execution_count": null,
      "outputs": []
    },
    {
      "cell_type": "code",
      "source": [
        "prior=np.exp(-0.5*(diff/np.std(diff))**2)"
      ],
      "metadata": {
        "id": "MG9WsZ-M-cFX"
      },
      "execution_count": null,
      "outputs": []
    },
    {
      "cell_type": "code",
      "source": [
        "likelihoods=np.exp(-0.1*fittness)"
      ],
      "metadata": {
        "id": "-aI3BYqb99_D"
      },
      "execution_count": null,
      "outputs": []
    },
    {
      "cell_type": "code",
      "source": [
        "diff=stuednets-textbook.reshape(1,-1)"
      ],
      "metadata": {
        "id": "jkTD4WmD8xLA"
      },
      "execution_count": null,
      "outputs": []
    },
    {
      "cell_type": "code",
      "source": [
        "np.exp(-0.5*(diff/np.std(diff))**2)"
      ],
      "metadata": {
        "colab": {
          "base_uri": "https://localhost:8080/"
        },
        "id": "0TDaJ2MN9PEl",
        "outputId": "ad676a93-c18c-41c7-9eee-1584e48d2e64"
      },
      "execution_count": null,
      "outputs": [
        {
          "output_type": "execute_result",
          "data": {
            "text/plain": [
              "array([[0.43764733, 0.61879465, 0.76646379, 0.4504844 ],\n",
              "       [0.44836465, 0.13521462, 0.99321515, 0.6757517 ],\n",
              "       [0.42452454, 0.99759716, 0.65442333, 0.42064022],\n",
              "       [0.58444934, 0.38233249, 0.43273538, 0.11659862],\n",
              "       [0.84787931, 0.66163893, 0.56136262, 0.95755435],\n",
              "       [0.97223384, 0.53260504, 0.98845379, 0.25711597],\n",
              "       [0.86934024, 0.63477803, 0.98279282, 0.12418088],\n",
              "       [0.87190213, 0.1486452 , 0.64115305, 0.38742563],\n",
              "       [0.70523826, 0.94938828, 0.65317162, 0.9802733 ]])"
            ]
          },
          "metadata": {},
          "execution_count": 92
        }
      ]
    },
    {
      "cell_type": "code",
      "source": [
        "weight=importance(4)"
      ],
      "metadata": {
        "id": "vAY8GJp0_7Fu"
      },
      "execution_count": null,
      "outputs": []
    },
    {
      "cell_type": "code",
      "source": [
        "def update_ablity_peronal(students,textbook,weight,study_gain):\n",
        "    delta=((1-(stuednets-textbook)*weight)*(np.sum(study_gain,axis=1).reshape(-1,1))/10)*1.5\n",
        "    delta=np.where(delta>=10, 10)\n",
        "    return students+delta"
      ],
      "metadata": {
        "id": "ADyOfpRtdNtW"
      },
      "execution_count": null,
      "outputs": []
    },
    {
      "cell_type": "code",
      "source": [
        "def crossover_personal(student1,student2,weight,mean):\n",
        "    return weight[0]*student1+weight[1]*student2+weight[2]*mean\n",
        "\n",
        "\n"
      ],
      "metadata": {
        "id": "OGZO7xLiICLm"
      },
      "execution_count": null,
      "outputs": []
    },
    {
      "cell_type": "code",
      "source": [
        "weight1=importance(3)"
      ],
      "metadata": {
        "id": "6nU1t0_ULFOA"
      },
      "execution_count": null,
      "outputs": []
    },
    {
      "cell_type": "code",
      "source": [
        "def crossover_total(students,mean,weight):\n",
        "       crossover_count = np.random.randint(1,8)\n",
        "\n",
        "       for _ in range(crossover_count):\n",
        "           parent=np.random.choice(range(len(students)),2)\n",
        "           students[parent[0]]=crossover_personal(students[parent[0]],students[parent[1]],weight,mean)\n",
        "           students[parent[1]]=crossover_personal(students[parent[1]],students[parent[0]],weight,mean)\n",
        "       return students\n"
      ],
      "metadata": {
        "id": "ReHw56KrJZDs"
      },
      "execution_count": null,
      "outputs": []
    },
    {
      "cell_type": "code",
      "source": [
        "parent=np.random.choice(range(len(stuednets)),2)"
      ],
      "metadata": {
        "id": "rElHD4-nLQYw"
      },
      "execution_count": null,
      "outputs": []
    },
    {
      "cell_type": "code",
      "source": [
        "mean=np.mean(stuednets,axis=0)"
      ],
      "metadata": {
        "id": "MjlSJHzyLdsl"
      },
      "execution_count": null,
      "outputs": []
    },
    {
      "cell_type": "code",
      "source": [
        "crossover_personal(stuednets[parent[0]],stuednets[parent[1]],weight1,mean)"
      ],
      "metadata": {
        "colab": {
          "base_uri": "https://localhost:8080/"
        },
        "id": "uVRrWyT8LUUd",
        "outputId": "0cfc97f7-1260-4814-85b1-3dee03ec7ef8"
      },
      "execution_count": null,
      "outputs": [
        {
          "output_type": "execute_result",
          "data": {
            "text/plain": [
              "array([5.9042428 , 4.49656151, 5.7677217 , 6.75047868])"
            ]
          },
          "metadata": {},
          "execution_count": 28
        }
      ]
    },
    {
      "cell_type": "code",
      "source": [
        "mean_ablity=np.mean(stuednets,axis=0)"
      ],
      "metadata": {
        "id": "TqGQBMWEKEPr"
      },
      "execution_count": null,
      "outputs": []
    },
    {
      "cell_type": "code",
      "source": [
        "divi=(stuednets[0] -mean_ablity)"
      ],
      "metadata": {
        "id": "wCkH6w3ractv"
      },
      "execution_count": null,
      "outputs": []
    },
    {
      "cell_type": "code",
      "source": [
        "0.5*np.exp(-0.1*(np.abs((stuednets[0] -mean_ablity))+np.random.normal(0,0.5)))*(stuednets[0] -mean_ablity)"
      ],
      "metadata": {
        "colab": {
          "base_uri": "https://localhost:8080/"
        },
        "id": "PRyQiX62QMAP",
        "outputId": "0fe0e341-e4e8-4b1d-f517-998c8993aaf5"
      },
      "execution_count": null,
      "outputs": [
        {
          "output_type": "execute_result",
          "data": {
            "text/plain": [
              "array([-1.01680506, -1.53328923,  0.42154946,  0.09520772])"
            ]
          },
          "metadata": {},
          "execution_count": 164
        }
      ]
    },
    {
      "cell_type": "code",
      "source": [
        "noise=np.random.normal(0,0.5*np.abs(divi))"
      ],
      "metadata": {
        "id": "3Mh597k8a2-U"
      },
      "execution_count": null,
      "outputs": []
    },
    {
      "cell_type": "code",
      "source": [
        "np.exp(-0.1*(np.abs(divi)+noise))*divi"
      ],
      "metadata": {
        "colab": {
          "base_uri": "https://localhost:8080/"
        },
        "id": "Ltahy-KGbACp",
        "outputId": "ec81a067-f39c-4c45-81d7-9262289f17cf"
      },
      "execution_count": null,
      "outputs": [
        {
          "output_type": "execute_result",
          "data": {
            "text/plain": [
              "array([-1.93912154, -3.68109186,  0.7805472 ,  0.18716572])"
            ]
          },
          "metadata": {},
          "execution_count": 185
        }
      ]
    },
    {
      "cell_type": "code",
      "source": [
        "def mutation_person(student,text_book):\n",
        "    divi=(student -text_book)\n",
        "    mutation_prob = 0.2* np.exp(-0.1 * np.abs(divi))\n",
        "    if np.random.random() < mutation_prob:\n",
        "        student+=np.random.normal(0,1)\n",
        "    if  np.random.random() < mutation_prob:\n",
        "        student-=np.random.normal(0,1)\n",
        "\n",
        "    noise=np.random.normal(0,0.5*np.abs(divi))\n",
        "    student+=np.exp(-0.1*(np.abs(divi)+noise))*divi\n",
        "    student = np.clip(student, 0, 10)\n",
        "    return student\n",
        "\n"
      ],
      "metadata": {
        "id": "hVn3X1PdN_il"
      },
      "execution_count": null,
      "outputs": []
    },
    {
      "cell_type": "code",
      "source": [
        "def mutation_total(students,text_book):\n",
        "    for i in range(len(students)):\n",
        "        students[i]=mutation_person(students[i],text_book)\n",
        "    return students"
      ],
      "metadata": {
        "id": "EREvQteXcktg"
      },
      "execution_count": null,
      "outputs": []
    },
    {
      "cell_type": "markdown",
      "source": [
        "#2"
      ],
      "metadata": {
        "id": "xqm3t4hJc4F9"
      }
    },
    {
      "cell_type": "code",
      "source": [
        "import copy\n",
        "import numpy as np\n",
        "import random\n",
        "def importance(q_size):\n",
        "   importance = np.random.uniform(0, 1, q_size)\n",
        "   importance /= importance.sum()\n",
        "   return importance\n",
        "def self_check_indival(diff):\n",
        "   l=[]\n",
        "   for i in diff:\n",
        "     if(i<=0):\n",
        "        l.append(0)\n",
        "     else:\n",
        "        l.append(np.random.choice([0, 1]))\n",
        "   return  np.array(l)\n",
        "def self_check_total(students):\n",
        "   l=[]\n",
        "   mean_ablity=np.mean(students,axis=1)\n",
        "   for i in mean_ablity:\n",
        "     diff=(i-textbook)/10\n",
        "     ll=self_check_indival(diff)\n",
        "     l.append(ll)\n",
        "   return np.array(l)\n",
        "\n",
        "def question_anser_indival(diff,q_size):\n",
        "  if(diff<=0):\n",
        "     p=max(0,0.5+diff)\n",
        "     return np.random.choice([0,1],q_size,p=[1-p,p])\n",
        "  p=min(1,0.5+diff)\n",
        "  return  np.random.choice([0,1],q_size,p=[1-p,p])\n",
        "\n",
        "def question_anser_total(mean_ablity, q_size):\n",
        "    l = []\n",
        "    for i in range(len(mean_ablity)):  # Iterate using index\n",
        "        diff = (mean_ablity[i] - textbook) / 10  # Calculate diff for each student\n",
        "        ll = []\n",
        "        for j in range(len(diff)):  # Iterate through each subject\n",
        "            ll.append(question_anser_indival(diff[j], q_size))  # Pass single diff value\n",
        "        l.append(np.array(ll))\n",
        "    return np.array(l)\n",
        "\n",
        "def fittness_func(prior,question_anser,question_importance,students):\n",
        "     fittness=prior*0.35+0.5*(question_anser@question_importance)+0.15*(students/10)\n",
        "     k=np.exp(-np.abs(prior-np.sum(question_anser,axis=2)/10)*students)\n",
        "     fitness=fittness*k\n",
        "     return fittness\n",
        "\n",
        "def selection(students,textbbok,fitness):\n",
        "  diff=students-textbook.reshape(1,-1)\n",
        "  prior=np.exp(-0.5*(diff/np.std(diff))**2)\n",
        "  likelihoods=np.exp(-0.1*fitness)\n",
        "  posterior = prior*likelihoods\n",
        "  posterior=(posterior)/np.sum(posterior,axis=1).reshape(-1,1)\n",
        "\n",
        "  return np.argmax(posterior,axis=1)\n",
        "\n",
        "def update_ablity_peronal(students,textbook,weight,study_gain):\n",
        "    delta=((1-(students-textbook)*weight)*(np.sum(study_gain,axis=1).reshape(-1,1))/10)*1.5\n",
        "    delta=np.where(delta>=10, 10,delta)\n",
        "    return students+delta\n",
        "\n",
        "\n",
        "def crossover_personal(student1,student2,weight,mean):\n",
        "    return weight[0]*student1+weight[1]*student2+weight[2]*mean\n",
        "def crossover_total(students,mean,weight):\n",
        "       crossover_count = np.random.randint(1,8)\n",
        "\n",
        "       for _ in range(crossover_count):\n",
        "           parent=np.random.choice(range(len(students)),2)\n",
        "           students[parent[0]]=crossover_personal(students[parent[0]],students[parent[1]],weight,mean)\n",
        "           students[parent[1]]=crossover_personal(students[parent[1]],students[parent[0]],weight,mean)\n",
        "       return students\n",
        "\n",
        "\n",
        "def mutation_person(student,text_book):\n",
        "    divi=(student -text_book)\n",
        "    mutation_prob = 0.2* np.exp(-0.1 * np.abs(divi))\n",
        "    if (np.random.random() < mutation_prob).any():\n",
        "        student+=np.random.normal(0,1)\n",
        "    if  (np.random.random() < mutation_prob).any():\n",
        "        student-=np.random.normal(0,1)\n",
        "\n",
        "    noise=np.random.normal(0,0.5*np.abs(divi))\n",
        "    student+=np.exp(-0.1*(np.abs(divi)+noise))*divi\n",
        "    #student = np.clip(student, 0, 10)\n",
        "    student=np.clip(student, 0, 10)\n",
        "    return student\n",
        "\n",
        "def mutation_total(students,text_book):\n",
        "    for i in range(len(students)):\n",
        "        students[i]=mutation_person(students[i],text_book)\n",
        "    return students\n",
        "\n",
        "\n",
        "def data_generation(students,size):\n",
        "      mean_ablity=np.mean(students,axis=1)\n",
        "      self_check=self_check_total(students)\n",
        "      question_anser=question_anser_total(mean_ablity,size)\n",
        "      return mean_ablity, self_check,question_anser\n",
        "def print_chosen_result(selected_index):\n",
        "    for i in range(len(selected_index)):\n",
        "       print(\"学生\"+\"no\"+str(i)+\" \"+\"にno\"+str(selected_index[i])+ \"の本が\"+\"が選ばれました。\")\n",
        "\n",
        "def print_final_result(students):\n",
        "     for i in range(len(students)):\n",
        "        print(students[i])\n",
        "\n",
        "\n",
        "def ga(students,textbook,generation):\n",
        "  for i in range(generation):\n",
        "        print(str(i + 1) + u\"世代\")\n",
        "        mean_ablity, self_check,question_anser=data_generation(students,10)\n",
        "\n",
        "\n",
        "        fitness=fittness_func(self_check,question_anser,importance(10),students)\n",
        "        selected_index=selection(students,textbook,fitness)\n",
        "        print_chosen_result(selected_index)\n",
        "        study_gain=question_anser[np.arange(len(students)),selected_index,]\n",
        "        up_students=update_ablity_peronal(students,textbook,importance(4),study_gain)\n",
        "\n",
        "        cross_students=crossover_total(students,np.mean(students,axis=0),importance(3))\n",
        "        mutated_students=mutation_total(cross_students,textbook)\n",
        "\n",
        "        print_final_result(mutated_students)\n",
        "\n",
        "def main():\n",
        "    students=np.random.uniform(0, 10, (9,4))\n",
        "    textbook=np.random.uniform(0, 10, 4)\n",
        "    ga(students,textbook,10)\n",
        "\n",
        "if __name__ == \"__main__\":\n",
        "    main()"
      ],
      "metadata": {
        "colab": {
          "base_uri": "https://localhost:8080/"
        },
        "id": "4SZyOt2Gun_K",
        "outputId": "4c58264e-61f1-4662-9005-175bea112e3c"
      },
      "execution_count": null,
      "outputs": [
        {
          "output_type": "stream",
          "name": "stdout",
          "text": [
            "1世代\n",
            "学生no0 にno1の本がが選ばれました。\n",
            "学生no1 にno0の本がが選ばれました。\n",
            "学生no2 にno1の本がが選ばれました。\n",
            "学生no3 にno0の本がが選ばれました。\n",
            "学生no4 にno1の本がが選ばれました。\n",
            "学生no5 にno2の本がが選ばれました。\n",
            "学生no6 にno2の本がが選ばれました。\n",
            "学生no7 にno3の本がが選ばれました。\n",
            "学生no8 にno0の本がが選ばれました。\n",
            "[6.96150014 9.198374   3.61038434 1.88962596]\n",
            "[7.88534247 5.04362152 1.50732504 2.65470556]\n",
            "[ 0.         10.          3.92593289  0.        ]\n",
            "[8.59449594 4.45749929 1.25694115 2.66787899]\n",
            "[6.82295949 9.35654347 2.77300665 1.92306951]\n",
            "[7.1145208  4.95164114 6.43580032 5.10258056]\n",
            "[3.49261471 3.35988187 0.         0.68174481]\n",
            "[4.66937852 4.04430572 1.17039401 1.56503414]\n",
            "[4.8936893  5.09919988 1.18201897 2.04348851]\n",
            "2世代\n",
            "学生no0 にno0の本がが選ばれました。\n",
            "学生no1 にno0の本がが選ばれました。\n",
            "学生no2 にno2の本がが選ばれました。\n",
            "学生no3 にno3の本がが選ばれました。\n",
            "学生no4 にno1の本がが選ばれました。\n",
            "学生no5 にno0の本がが選ばれました。\n",
            "学生no6 にno3の本がが選ばれました。\n",
            "学生no7 にno3の本がが選ばれました。\n",
            "学生no8 にno3の本がが選ばれました。\n",
            "[10.         10.          2.04099696  0.64481733]\n",
            "[8.9867664  5.36770118 0.         0.        ]\n",
            "[ 0.         10.          1.32632016  0.        ]\n",
            "[10.          3.23863341  0.          0.        ]\n",
            "[10.         10.          0.08938507  0.        ]\n",
            "[10.          5.32704869  5.49482421  3.01559396]\n",
            "[6.08090636 3.45945219 0.         0.        ]\n",
            "[6.86096953 3.5551369  0.         0.        ]\n",
            "[6.99582638 5.6056344  0.         0.        ]\n",
            "3世代\n",
            "学生no0 にno1の本がが選ばれました。\n",
            "学生no1 にno0の本がが選ばれました。\n",
            "学生no2 にno1の本がが選ばれました。\n",
            "学生no3 にno0の本がが選ばれました。\n",
            "学生no4 にno1の本がが選ばれました。\n",
            "学生no5 にno3の本がが選ばれました。\n",
            "学生no6 にno0の本がが選ばれました。\n",
            "学生no7 にno0の本がが選ばれました。\n",
            "学生no8 にno0の本がが選ばれました。\n",
            "[10.         9.8197484  0.         0.       ]\n",
            "[10.          7.94290934  0.          0.        ]\n",
            "[10.          8.16058182  0.          0.        ]\n",
            "[10.          6.92204256  0.          0.        ]\n",
            "[9.5214393  7.59073766 0.         0.        ]\n",
            "[10.          6.01129282  3.90244824  0.        ]\n",
            "[8.07021545 7.80188523 0.         0.        ]\n",
            "[5.22938733 9.28896616 0.         0.        ]\n",
            "[10.          8.77868266  0.          0.        ]\n",
            "4世代\n",
            "学生no0 にno1の本がが選ばれました。\n",
            "学生no1 にno1の本がが選ばれました。\n",
            "学生no2 にno1の本がが選ばれました。\n",
            "学生no3 にno1の本がが選ばれました。\n",
            "学生no4 にno1の本がが選ばれました。\n",
            "学生no5 にno2の本がが選ばれました。\n",
            "学生no6 にno0の本がが選ばれました。\n",
            "学生no7 にno1の本がが選ばれました。\n",
            "学生no8 にno1の本がが選ばれました。\n",
            "[10.          9.87421134  0.          0.        ]\n",
            "[10. 10.  0.  0.]\n",
            "[10. 10.  0.  0.]\n",
            "[10.          9.96335957  0.          0.        ]\n",
            "[10.          8.87308112  0.          0.        ]\n",
            "[10.          7.39247008  1.51641929  0.        ]\n",
            "[10. 10.  0.  0.]\n",
            "[ 8.92253601 10.          0.          0.44655111]\n",
            "[10. 10.  0.  0.]\n",
            "5世代\n",
            "学生no0 にno1の本がが選ばれました。\n",
            "学生no1 にno1の本がが選ばれました。\n",
            "学生no2 にno1の本がが選ばれました。\n",
            "学生no3 にno1の本がが選ばれました。\n",
            "学生no4 にno1の本がが選ばれました。\n",
            "学生no5 にno1の本がが選ばれました。\n",
            "学生no6 にno1の本がが選ばれました。\n",
            "学生no7 にno1の本がが選ばれました。\n",
            "学生no8 にno1の本がが選ばれました。\n",
            "[10. 10.  0.  0.]\n",
            "[10. 10.  0.  0.]\n",
            "[10. 10.  0.  0.]\n",
            "[10. 10.  0.  0.]\n",
            "[10. 10.  0.  0.]\n",
            "[10. 10.  0.  0.]\n",
            "[10. 10.  0.  0.]\n",
            "[10. 10.  0.  0.]\n",
            "[10. 10.  0.  0.]\n",
            "6世代\n",
            "学生no0 にno1の本がが選ばれました。\n",
            "学生no1 にno1の本がが選ばれました。\n",
            "学生no2 にno1の本がが選ばれました。\n",
            "学生no3 にno1の本がが選ばれました。\n",
            "学生no4 にno1の本がが選ばれました。\n",
            "学生no5 にno1の本がが選ばれました。\n",
            "学生no6 にno1の本がが選ばれました。\n",
            "学生no7 にno1の本がが選ばれました。\n",
            "学生no8 にno1の本がが選ばれました。\n",
            "[10. 10.  0.  0.]\n",
            "[10. 10.  0.  0.]\n",
            "[10. 10.  0.  0.]\n",
            "[10. 10.  0.  0.]\n",
            "[10. 10.  0.  0.]\n",
            "[10. 10.  0.  0.]\n",
            "[10. 10.  0.  0.]\n",
            "[10. 10.  0.  0.]\n",
            "[10. 10.  0.  0.]\n",
            "7世代\n",
            "学生no0 にno1の本がが選ばれました。\n",
            "学生no1 にno1の本がが選ばれました。\n",
            "学生no2 にno1の本がが選ばれました。\n",
            "学生no3 にno1の本がが選ばれました。\n",
            "学生no4 にno1の本がが選ばれました。\n",
            "学生no5 にno1の本がが選ばれました。\n",
            "学生no6 にno1の本がが選ばれました。\n",
            "学生no7 にno1の本がが選ばれました。\n",
            "学生no8 にno1の本がが選ばれました。\n",
            "[10. 10.  0.  0.]\n",
            "[10. 10.  0.  0.]\n",
            "[10. 10.  0.  0.]\n",
            "[10. 10.  0.  0.]\n",
            "[10. 10.  0.  0.]\n",
            "[10. 10.  0.  0.]\n",
            "[10. 10.  0.  0.]\n",
            "[10. 10.  0.  0.]\n",
            "[10. 10.  0.  0.]\n",
            "8世代\n",
            "学生no0 にno1の本がが選ばれました。\n",
            "学生no1 にno1の本がが選ばれました。\n",
            "学生no2 にno1の本がが選ばれました。\n",
            "学生no3 にno1の本がが選ばれました。\n",
            "学生no4 にno1の本がが選ばれました。\n",
            "学生no5 にno1の本がが選ばれました。\n",
            "学生no6 にno1の本がが選ばれました。\n",
            "学生no7 にno1の本がが選ばれました。\n",
            "学生no8 にno1の本がが選ばれました。\n",
            "[10. 10.  0.  0.]\n",
            "[10. 10.  0.  0.]\n",
            "[10. 10.  0.  0.]\n",
            "[10. 10.  0.  0.]\n",
            "[10. 10.  0.  0.]\n",
            "[10. 10.  0.  0.]\n",
            "[10. 10.  0.  0.]\n",
            "[10. 10.  0.  0.]\n",
            "[10. 10.  0.  0.]\n",
            "9世代\n",
            "学生no0 にno1の本がが選ばれました。\n",
            "学生no1 にno1の本がが選ばれました。\n",
            "学生no2 にno1の本がが選ばれました。\n",
            "学生no3 にno1の本がが選ばれました。\n",
            "学生no4 にno1の本がが選ばれました。\n",
            "学生no5 にno1の本がが選ばれました。\n",
            "学生no6 にno1の本がが選ばれました。\n",
            "学生no7 にno1の本がが選ばれました。\n",
            "学生no8 にno1の本がが選ばれました。\n",
            "[10. 10.  0.  0.]\n",
            "[10. 10.  0.  0.]\n",
            "[10. 10.  0.  0.]\n",
            "[10. 10.  0.  0.]\n",
            "[10. 10.  0.  0.]\n",
            "[10. 10.  0.  0.]\n",
            "[10. 10.  0.  0.]\n",
            "[10.        10.         0.2297873  0.       ]\n",
            "[10. 10.  0.  0.]\n",
            "10世代\n",
            "学生no0 にno1の本がが選ばれました。\n",
            "学生no1 にno1の本がが選ばれました。\n",
            "学生no2 にno1の本がが選ばれました。\n",
            "学生no3 にno1の本がが選ばれました。\n",
            "学生no4 にno1の本がが選ばれました。\n",
            "学生no5 にno1の本がが選ばれました。\n",
            "学生no6 にno1の本がが選ばれました。\n",
            "学生no7 にno1の本がが選ばれました。\n",
            "学生no8 にno1の本がが選ばれました。\n",
            "[10. 10.  0.  0.]\n",
            "[10. 10.  0.  0.]\n",
            "[10. 10.  0.  0.]\n",
            "[10. 10.  0.  0.]\n",
            "[10. 10.  0.  0.]\n",
            "[10. 10.  0.  0.]\n",
            "[10. 10.  0.  0.]\n",
            "[10. 10.  0.  0.]\n",
            "[10. 10.  0.  0.]\n"
          ]
        }
      ]
    },
    {
      "cell_type": "code",
      "source": [
        "import copy\n",
        "import numpy as np\n",
        "import random\n"
      ],
      "metadata": {
        "id": "lSQi16TXdlQ5"
      },
      "execution_count": null,
      "outputs": []
    },
    {
      "cell_type": "code",
      "source": [
        "def importance(q_size):\n",
        "   importance = np.random.uniform(0, 1, q_size)\n",
        "   importance /= importance.sum()\n",
        "   return importance"
      ],
      "metadata": {
        "id": "kql8FiC2dk7l"
      },
      "execution_count": null,
      "outputs": []
    },
    {
      "cell_type": "code",
      "source": [
        "def self_check_indival(diff):\n",
        "   l=[]\n",
        "   for i in diff:\n",
        "     if(i<=0):\n",
        "        l.append(0)\n",
        "     else:\n",
        "        l.append(np.random.choice([0, 1]))\n",
        "   return  np.array(l)\n",
        "def self_check_total(students):\n",
        "   l=[]\n",
        "   mean_ablity=np.mean(students,axis=1)\n",
        "   for i in mean_ablity:\n",
        "     diff=(i-textbook)/10\n",
        "     ll=self_check_indival(diff)\n",
        "     l.append(ll)\n",
        "   return np.array(l)\n",
        "\n"
      ],
      "metadata": {
        "id": "yPgAINNgc40T"
      },
      "execution_count": null,
      "outputs": []
    },
    {
      "cell_type": "code",
      "source": [
        "def question_anser_indival(diff,q_size):\n",
        "  if(diff<=0):\n",
        "     p=max(0,0.5+diff)\n",
        "     return np.random.choice([0,1],q_size,p=[1-p,p])\n",
        "  p=min(1,0.5+diff)\n",
        "  return  np.random.choice([0,1],q_size,p=[1-p,p])\n",
        "\n",
        "def question_anser_total(mean_ablity, q_size):\n",
        "    l = []\n",
        "    for i in range(len(mean_ablity)):  # Iterate using index\n",
        "        diff = (mean_ablity[i] - textbook) / 10  # Calculate diff for each student\n",
        "        ll = []\n",
        "        for j in range(len(diff)):  # Iterate through each subject\n",
        "            ll.append(question_anser_indival(diff[j], q_size))  # Pass single diff value\n",
        "        l.append(np.array(ll))\n",
        "    return np.array(l)"
      ],
      "metadata": {
        "id": "iPrMv9dCdA6a"
      },
      "execution_count": null,
      "outputs": []
    },
    {
      "cell_type": "code",
      "source": [
        "def fittness_func(prior,question_anser,question_importance,students):\n",
        "     fittness=prior*0.35+0.5*(question_anser@question_importance)+0.15*(students/10)\n",
        "     k=np.exp(-np.abs(sel_c-np.sum(question_anser,axis=2)/10)*students)\n",
        "     fitness=fittness*k\n",
        "     return fittness\n",
        "\n",
        "def selection(students,textbbok,fitness):\n",
        "  diff=students-textbook.reshape(1,-1)\n",
        "  prior=np.exp(-0.5*(diff/np.std(diff))**2)\n",
        "  likelihoods=np.exp(-0.1*fitness)\n",
        "  posterior = prior*likelihoods\n",
        "  posterior=(posterior)/np.sum(posterior,axis=1).reshape(-1,1)\n",
        "\n",
        "  return np.argmax(posterior,axis=1)"
      ],
      "metadata": {
        "id": "He7T4hEIdKwu"
      },
      "execution_count": null,
      "outputs": []
    },
    {
      "cell_type": "code",
      "source": [
        "def update_ablity_peronal(students,textbook,weight,study_gain):\n",
        "    delta=((1-(students-textbook)*weight)*(np.sum(study_gain,axis=1).reshape(-1,1))/10)*1.5\n",
        "    delta=np.where(delta>=10, 10,delta)\n",
        "    return students+delta"
      ],
      "metadata": {
        "id": "JAlIpSOudLP2"
      },
      "execution_count": null,
      "outputs": []
    },
    {
      "cell_type": "code",
      "source": [
        "def crossover_personal(student1,student2,weight,mean):\n",
        "    return weight[0]*student1+weight[1]*student2+weight[2]*mean\n",
        "def crossover_total(students,mean,weight):\n",
        "       crossover_count = np.random.randint(1,8)\n",
        "\n",
        "       for _ in range(crossover_count):\n",
        "           parent=np.random.choice(range(len(students)),2)\n",
        "           students[parent[0]]=crossover_personal(students[parent[0]],students[parent[1]],weight,mean)\n",
        "           students[parent[1]]=crossover_personal(students[parent[1]],students[parent[0]],weight,mean)\n",
        "       return students"
      ],
      "metadata": {
        "id": "eKQtd8KEdcZG"
      },
      "execution_count": null,
      "outputs": []
    },
    {
      "cell_type": "code",
      "source": [
        "def mutation_person(student,text_book):\n",
        "    divi=(student -text_book)\n",
        "    mutation_prob = 0.2* np.exp(-0.1 * np.abs(divi))\n",
        "    if (np.random.random() < mutation_prob).any():\n",
        "        student+=np.random.normal(0,1)\n",
        "    if  (np.random.random() < mutation_prob).any():\n",
        "        student-=np.random.normal(0,1)\n",
        "\n",
        "    noise=np.random.normal(0,0.5*np.abs(divi))\n",
        "    student+=np.exp(-0.1*(np.abs(divi)+noise))*divi\n",
        "    student = np.clip(student, 0, 10)\n",
        "    return student\n",
        "\n",
        "def mutation_total(students,text_book):\n",
        "    for i in range(len(students)):\n",
        "        students[i]=mutation_person(students[i],text_book)\n",
        "    return students"
      ],
      "metadata": {
        "id": "D7-29n_Tdg0B"
      },
      "execution_count": null,
      "outputs": []
    },
    {
      "cell_type": "code",
      "source": [
        "def data_generation(students,size):\n",
        "      mean_ablity=np.mean(students,axis=1)\n",
        "      self_check=self_check_total(students)\n",
        "      question_anser=question_anser_total(mean_ablity,size)\n",
        "      return mean_ablity, self_check,question_anser\n",
        "def print_chosen_result(selected_index):\n",
        "    for i in range(len(selected_index)):\n",
        "       print(\"学生\"+\"no\"+str(i)+\" \"+\"にno\"+str(selected_index[i])+ \"の本が\"+\"が選ばれました。\")\n",
        "\n",
        "def print_final_result(students):\n",
        "     for i in range(len(students)):\n",
        "        print(students[i])"
      ],
      "metadata": {
        "id": "IhAcpJuKFyEO"
      },
      "execution_count": null,
      "outputs": []
    },
    {
      "cell_type": "code",
      "source": [
        "def ga(students,textbook,generation):\n",
        "  for i in range(generation):\n",
        "        print(str(i + 1) + u\"世代\")\n",
        "        mean_ablity, self_check,question_anser=data_generation(students,10)\n",
        "\n",
        "\n",
        "        fitness=fittness_func(self_check,question_anser,importance(10),students)\n",
        "        selected_index=selection(students,textbook,fitness)\n",
        "        print_chosen_result(selected_index)\n",
        "        study_gain=question_anser[np.arange(len(students)),selected_index,]\n",
        "        up_students=update_ablity_peronal(students,textbook,importance(4),study_gain)\n",
        "\n",
        "        cross_students=crossover_total(students,np.mean(students,axis=0),importance(3))\n",
        "        mutated_students=mutation_total(cross_students,textbook)\n",
        "\n",
        "        print_final_result(mutated_students)\n",
        "\n",
        "\n",
        "\n",
        "\n",
        "\n",
        "\n",
        "\n"
      ],
      "metadata": {
        "id": "-yac3iG6FoZg"
      },
      "execution_count": null,
      "outputs": []
    },
    {
      "cell_type": "code",
      "source": [
        "def main():\n",
        "    students=np.random.uniform(0, 10, (9,4))\n",
        "    textbook=np.random.uniform(0, 10, 4)\n",
        "    ga(students,textbook,10)"
      ],
      "metadata": {
        "id": "BSt_c77Hs38X"
      },
      "execution_count": null,
      "outputs": []
    },
    {
      "cell_type": "code",
      "source": [
        "if __name__ == \"__main__\":\n",
        "    main()"
      ],
      "metadata": {
        "colab": {
          "base_uri": "https://localhost:8080/"
        },
        "id": "X-VPm0_xs-li",
        "outputId": "8541f50f-0f68-4286-94dd-a924531e7141"
      },
      "execution_count": null,
      "outputs": [
        {
          "output_type": "stream",
          "name": "stdout",
          "text": [
            "1世代\n",
            "学生no0 にno2の本がが選ばれました。\n",
            "学生no1 にno3の本がが選ばれました。\n",
            "学生no2 にno0の本がが選ばれました。\n",
            "学生no3 にno2の本がが選ばれました。\n",
            "学生no4 にno0の本がが選ばれました。\n",
            "学生no5 にno3の本がが選ばれました。\n",
            "学生no6 にno2の本がが選ばれました。\n",
            "学生no7 にno3の本がが選ばれました。\n",
            "学生no8 にno1の本がが選ばれました。\n",
            "[1.85853831 5.3590382  5.55320479 7.67301413]\n",
            "[5.25701567 0.         7.33991262 0.        ]\n",
            "[10.          0.49907457  0.          4.96045017]\n",
            "[1.8066657  2.79878741 0.         5.03245871]\n",
            "[10.          1.18314682  9.40693807  3.61884621]\n",
            "[6.59925682 0.26474532 8.46917029 0.        ]\n",
            "[6.22931501 0.         0.17215591 5.33491518]\n",
            "[10.          7.34544449 10.          2.66770913]\n",
            "[ 9.44991805 10.          9.79909512  0.        ]\n",
            "2世代\n",
            "学生no0 にno2の本がが選ばれました。\n",
            "学生no1 にno0の本がが選ばれました。\n",
            "学生no2 にno3の本がが選ばれました。\n",
            "学生no3 にno3の本がが選ばれました。\n",
            "学生no4 にno3の本がが選ばれました。\n",
            "学生no5 にno0の本がが選ばれました。\n",
            "学生no6 にno0の本がが選ばれました。\n",
            "学生no7 にno3の本がが選ばれました。\n",
            "学生no8 にno1の本がが選ばれました。\n",
            "[0.59755918 5.71674302 4.2867629  5.20565146]\n",
            "[9.20133998 1.67264242 6.40107949 0.        ]\n",
            "[9.8427224  2.96379983 5.32415375 0.24017016]\n",
            "[9.43188098 2.74069261 4.3277937  0.        ]\n",
            "[10.          0.         10.          1.31398902]\n",
            "[10.          3.6908136   6.74471647  1.30955996]\n",
            "[10.          2.74344297  4.94003414  0.        ]\n",
            "[10.          4.28734093  6.7404313   0.        ]\n",
            "[10.          4.23976961  6.79594636  0.        ]\n",
            "3世代\n",
            "学生no0 にno2の本がが選ばれました。\n",
            "学生no1 にno0の本がが選ばれました。\n",
            "学生no2 にno2の本がが選ばれました。\n",
            "学生no3 にno2の本がが選ばれました。\n",
            "学生no4 にno3の本がが選ばれました。\n",
            "学生no5 にno3の本がが選ばれました。\n",
            "学生no6 にno2の本がが選ばれました。\n",
            "学生no7 にno0の本がが選ばれました。\n",
            "学生no8 にno0の本がが選ばれました。\n",
            "[10.          3.59222542  6.21958976  0.        ]\n",
            "[10.          2.27115294  6.73785429  0.        ]\n",
            "[10.          3.05122079  5.75923554  0.        ]\n",
            "[10.          2.94577177  5.30617924  0.        ]\n",
            "[10.  0. 10.  0.]\n",
            "[10.          3.99444808  6.70571809  0.        ]\n",
            "[10.          3.12633873  4.86813641  0.        ]\n",
            "[10.          5.36196975  7.64238636  0.        ]\n",
            "[10.          5.40331025  7.84844527  0.        ]\n",
            "4世代\n",
            "学生no0 にno2の本がが選ばれました。\n",
            "学生no1 にno0の本がが選ばれました。\n",
            "学生no2 にno2の本がが選ばれました。\n",
            "学生no3 にno2の本がが選ばれました。\n",
            "学生no4 にno0の本がが選ばれました。\n",
            "学生no5 にno0の本がが選ばれました。\n",
            "学生no6 にno2の本がが選ばれました。\n",
            "学生no7 にno0の本がが選ばれました。\n",
            "学生no8 にno0の本がが選ばれました。\n",
            "[10.         3.5897591  7.6982276  0.       ]\n",
            "[10.          1.58416319  7.68189185  0.        ]\n",
            "[10.          3.54325928  7.36514897  0.        ]\n",
            "[10.          1.84039973  3.86808248  0.        ]\n",
            "[10.          5.63210886 10.          0.72958284]\n",
            "[10.          3.15412743  6.70117351  0.        ]\n",
            "[10.          3.55985408  6.25812519  0.        ]\n",
            "[10.          4.4959903   8.80644231  0.        ]\n",
            "[10.          5.18282558  8.55795126  0.        ]\n",
            "5世代\n",
            "学生no0 にno0の本がが選ばれました。\n",
            "学生no1 にno0の本がが選ばれました。\n",
            "学生no2 にno0の本がが選ばれました。\n",
            "学生no3 にno2の本がが選ばれました。\n",
            "学生no4 にno3の本がが選ばれました。\n",
            "学生no5 にno0の本がが選ばれました。\n",
            "学生no6 にno2の本がが選ばれました。\n",
            "学生no7 にno0の本がが選ばれました。\n",
            "学生no8 にno0の本がが選ばれました。\n",
            "[10.          4.14842904  8.55029474  0.        ]\n",
            "[10.          0.          8.80786527  0.        ]\n",
            "[10.          4.15979242  8.24508057  0.        ]\n",
            "[10.          2.31590413  3.79345939  0.        ]\n",
            "[10.          3.95858702  8.41704006  0.        ]\n",
            "[10.          3.95459072  8.68530281  0.        ]\n",
            "[10.          4.01206339  8.58766028  0.        ]\n",
            "[10.          6.90278108 10.          0.        ]\n",
            "[10.          6.78757632 10.          0.        ]\n",
            "6世代\n",
            "学生no0 にno0の本がが選ばれました。\n",
            "学生no1 にno0の本がが選ばれました。\n",
            "学生no2 にno0の本がが選ばれました。\n",
            "学生no3 にno2の本がが選ばれました。\n",
            "学生no4 にno0の本がが選ばれました。\n",
            "学生no5 にno0の本がが選ばれました。\n",
            "学生no6 にno0の本がが選ばれました。\n",
            "学生no7 にno1の本がが選ばれました。\n",
            "学生no8 にno1の本がが選ばれました。\n",
            "[10.         5.2953655 10.         0.       ]\n",
            "[10.  0. 10.  0.]\n",
            "[10.          4.0167571   9.42025243  0.        ]\n",
            "[10.          1.64613546  2.33231682  0.        ]\n",
            "[10.          4.60712804 10.          0.        ]\n",
            "[10.          4.77500376 10.          0.        ]\n",
            "[10.          4.46709369 10.          0.        ]\n",
            "[10.        9.148308 10.        0.      ]\n",
            "[10.          9.12788794 10.          0.        ]\n",
            "7世代\n",
            "学生no0 にno0の本がが選ばれました。\n",
            "学生no1 にno0の本がが選ばれました。\n",
            "学生no2 にno0の本がが選ばれました。\n",
            "学生no3 にno2の本がが選ばれました。\n",
            "学生no4 にno0の本がが選ばれました。\n",
            "学生no5 にno0の本がが選ばれました。\n",
            "学生no6 にno0の本がが選ばれました。\n",
            "学生no7 にno1の本がが選ばれました。\n",
            "学生no8 にno1の本がが選ばれました。\n",
            "[10.          7.12031641 10.          0.        ]\n",
            "[10.          5.78166757 10.          0.        ]\n",
            "[10.          4.97507345 10.          0.        ]\n",
            "[10.          9.47192109 10.          0.        ]\n",
            "[10.          6.05789752 10.          0.        ]\n",
            "[10.          6.02077134 10.          0.        ]\n",
            "[10.          5.66775491 10.          0.        ]\n",
            "[10.         9.3638794 10.         0.       ]\n",
            "[10. 10. 10.  0.]\n",
            "8世代\n",
            "学生no0 にno1の本がが選ばれました。\n",
            "学生no1 にno0の本がが選ばれました。\n",
            "学生no2 にno0の本がが選ばれました。\n",
            "学生no3 にno1の本がが選ばれました。\n",
            "学生no4 にno0の本がが選ばれました。\n",
            "学生no5 にno0の本がが選ばれました。\n",
            "学生no6 にno0の本がが選ばれました。\n",
            "学生no7 にno1の本がが選ばれました。\n",
            "学生no8 にno1の本がが選ばれました。\n",
            "[10. 10. 10.  0.]\n",
            "[10.          9.17943383 10.          0.        ]\n",
            "[10.          9.12836467 10.          0.        ]\n",
            "[10. 10. 10.  0.]\n",
            "[10. 10. 10.  0.]\n",
            "[10.          8.15913993 10.          0.        ]\n",
            "[10.          8.61181061 10.          0.        ]\n",
            "[10. 10. 10.  0.]\n",
            "[10. 10. 10.  0.]\n",
            "9世代\n",
            "学生no0 にno1の本がが選ばれました。\n",
            "学生no1 にno1の本がが選ばれました。\n",
            "学生no2 にno1の本がが選ばれました。\n",
            "学生no3 にno1の本がが選ばれました。\n",
            "学生no4 にno1の本がが選ばれました。\n",
            "学生no5 にno1の本がが選ばれました。\n",
            "学生no6 にno1の本がが選ばれました。\n",
            "学生no7 にno1の本がが選ばれました。\n",
            "学生no8 にno1の本がが選ばれました。\n",
            "[10. 10. 10.  0.]\n",
            "[10. 10. 10.  0.]\n",
            "[10. 10. 10.  0.]\n",
            "[10. 10. 10.  0.]\n",
            "[10. 10. 10.  0.]\n",
            "[10. 10. 10.  0.]\n",
            "[10. 10. 10.  0.]\n",
            "[10. 10. 10.  0.]\n",
            "[10. 10. 10.  0.]\n",
            "10世代\n",
            "学生no0 にno1の本がが選ばれました。\n",
            "学生no1 にno1の本がが選ばれました。\n",
            "学生no2 にno1の本がが選ばれました。\n",
            "学生no3 にno1の本がが選ばれました。\n",
            "学生no4 にno1の本がが選ばれました。\n",
            "学生no5 にno1の本がが選ばれました。\n",
            "学生no6 にno1の本がが選ばれました。\n",
            "学生no7 にno1の本がが選ばれました。\n",
            "学生no8 にno1の本がが選ばれました。\n",
            "[10. 10. 10.  0.]\n",
            "[10. 10. 10.  0.]\n",
            "[10. 10. 10.  0.]\n",
            "[10. 10. 10.  0.]\n",
            "[10. 10. 10.  0.]\n",
            "[10. 10. 10.  0.]\n",
            "[10. 10. 10.  0.]\n",
            "[10. 10. 10.  0.]\n",
            "[10. 10. 10.  0.]\n"
          ]
        }
      ]
    },
    {
      "cell_type": "markdown",
      "source": [],
      "metadata": {
        "id": "jJE9epkds-a5"
      }
    }
  ]
}